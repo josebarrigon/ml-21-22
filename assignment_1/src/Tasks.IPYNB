{
 "cells": [
  {
   "cell_type": "markdown",
   "metadata": {},
   "source": [
    "# Task 1"
   ]
  },
  {
   "cell_type": "code",
   "execution_count": 27,
   "metadata": {},
   "outputs": [],
   "source": [
    "import sys\n",
    "sys.path.append('../deliverable')\n",
    "import run_model as rm\n",
    "import matplotlib.pyplot as plt\n",
    "import numpy as np\n",
    "import joblib\n",
    "from sklearn.metrics import mean_squared_error"
   ]
  },
  {
   "cell_type": "code",
   "execution_count": 28,
   "metadata": {},
   "outputs": [
    {
     "name": "stdout",
     "output_type": "stream",
     "text": [
      "theta_0 = 1.7006171582309046, theta_1 = -0.14325050307474513, theta_2 = -0.623183897160942, theta_3 = 0.018956308893969535\n",
      "MSE = 1.2418258937189481\n"
     ]
    }
   ],
   "source": [
    "# load the data\n",
    "X,y = rm.load_data(\"../data/data.npz\")\n",
    "\n",
    "# Create X matrix\n",
    "ones = np.ones((X.shape[0], 1))\n",
    "X_ = np.column_stack((ones,X,np.cos(X[:,1]),X[:,0]**2))\n",
    "\n",
    "# Calculate coefficients directly\n",
    "theta = np.linalg.inv(X_.T.dot(X_)).dot(X_.T).dot(y)\n",
    "\n",
    "# predict using coefficients\n",
    "y_pred = X_.dot(theta)\n",
    "\n",
    "MSE = rm.evaluate_predictions(y, y_pred)\n",
    "\n",
    "print(\"theta_0 = {}, theta_1 = {}, theta_2 = {}, theta_3 = {}\".format(theta[0], theta[1], theta[2], theta[3]))\n",
    "print(\"MSE = {}\".format(MSE))"
   ]
  },
  {
   "cell_type": "code",
   "execution_count": 38,
   "metadata": {},
   "outputs": [
    {
     "data": {
      "text/plain": [
       "['../deliverable/linear_regression_model.pickle']"
      ]
     },
     "execution_count": 38,
     "metadata": {},
     "output_type": "execute_result"
    }
   ],
   "source": [
    "#Save the model\n",
    "joblib.dump((X_,theta),\"../deliverable/linear_regression_model.pickle\")"
   ]
  },
  {
   "cell_type": "markdown",
   "metadata": {},
   "source": [
    "# Task 2"
   ]
  },
  {
   "cell_type": "markdown",
   "metadata": {},
   "source": [
    "##### Split the data into test and train sets"
   ]
  },
  {
   "cell_type": "code",
   "execution_count": 30,
   "metadata": {},
   "outputs": [],
   "source": [
    "from sklearn.model_selection import train_test_split\n",
    "\n",
    "# Split the data into test and train sets\n",
    "X_train, X_test, y_train, y_test = train_test_split(X, y, test_size=0.33, random_state=42)"
   ]
  },
  {
   "cell_type": "markdown",
   "metadata": {},
   "source": [
    "##### We are going to use MLP Regressor for the second task. To find the best hyperparameters GridSerachCV is going to be used"
   ]
  },
  {
   "cell_type": "code",
   "execution_count": 32,
   "metadata": {},
   "outputs": [
    {
     "data": {
      "text/plain": [
       "GridSearchCV(estimator=MLPRegressor(max_iter=90000),\n",
       "             param_grid={'activation': ['tanh', 'relu'],\n",
       "                         'alpha': [5e-05, 0.0005],\n",
       "                         'hidden_layer_sizes': [(1,), (50,)],\n",
       "                         'solver': ['lbfgs']})"
      ]
     },
     "execution_count": 32,
     "metadata": {},
     "output_type": "execute_result"
    }
   ],
   "source": [
    "from sklearn.neural_network import MLPRegressor\n",
    "from sklearn.model_selection import GridSearchCV\n",
    "\n",
    "param_list = {\"hidden_layer_sizes\": [(1,),(50,)], \"activation\": [\"tanh\", \"relu\"], \"solver\": [\"lbfgs\"], \"alpha\": [0.00005,0.0005]}\n",
    "gridCV = GridSearchCV(estimator=MLPRegressor(max_iter=90000), param_grid=param_list)\n",
    "\n",
    "gridCV.fit(X_train, y_train)"
   ]
  },
  {
   "cell_type": "code",
   "execution_count": 36,
   "metadata": {},
   "outputs": [
    {
     "name": "stdout",
     "output_type": "stream",
     "text": [
      "The best parameters found are {'activation': 'tanh', 'alpha': 5e-05, 'hidden_layer_sizes': (50,), 'solver': 'lbfgs'} \n"
     ]
    },
    {
     "data": {
      "text/plain": [
       "['../deliverable/nonlinear_model.pickle']"
      ]
     },
     "execution_count": 36,
     "metadata": {},
     "output_type": "execute_result"
    }
   ],
   "source": [
    "print(\"The best parameters found are {} \".format(gridCV.best_params_))\n",
    "\n",
    "# Save the model\n",
    "joblib_file = \"../deliverable/nonlinear_model.pickle\"\n",
    "joblib.dump(gridCV,joblib_file)"
   ]
  },
  {
   "cell_type": "markdown",
   "metadata": {},
   "source": [
    "# Task 3"
   ]
  },
  {
   "cell_type": "markdown",
   "metadata": {},
   "source": [
    "##### Comparing the performance of the two models with the test set"
   ]
  },
  {
   "cell_type": "code",
   "execution_count": 34,
   "metadata": {},
   "outputs": [
    {
     "name": "stdout",
     "output_type": "stream",
     "text": [
      "The MSE of the Baseline Model on the test set is MSE = 0.014302971711671629 \n",
      "The MSE of the MLP Model on the test set is MSE = 0.015776781583212104 \n"
     ]
    }
   ],
   "source": [
    "baseline_model = rm.load_model(\"../deliverable/baseline_model.pickle\")\n",
    "\n",
    "y_pred_baseline_model = baseline_model.predict(X_test)\n",
    "y_pred_MLP_model = gridCV.predict(X_test)\n",
    "\n",
    "MSE_baseline_model = rm.evaluate_predictions(y_test, y_pred_baseline_model)\n",
    "MSE_MLP_model = rm.evaluate_predictions(y_test, y_pred_MLP_model)\n",
    "\n",
    "print(\"The MSE of the Baseline Model on the test set is MSE = {} \".format(MSE_baseline_model))\n",
    "print(\"The MSE of the MLP Model on the test set is MSE = {} \".format(MSE_MLP_model))"
   ]
  }
 ],
 "metadata": {
  "interpreter": {
   "hash": "0764b4ab1cb4df747353109edecb473e64c31bd0bfcf97747049310c692f3a16"
  },
  "kernelspec": {
   "display_name": "Python 3.10.2 64-bit",
   "language": "python",
   "name": "python3"
  },
  "language_info": {
   "codemirror_mode": {
    "name": "ipython",
    "version": 3
   },
   "file_extension": ".py",
   "mimetype": "text/x-python",
   "name": "python",
   "nbconvert_exporter": "python",
   "pygments_lexer": "ipython3",
   "version": "3.10.2"
  },
  "orig_nbformat": 4
 },
 "nbformat": 4,
 "nbformat_minor": 2
}
